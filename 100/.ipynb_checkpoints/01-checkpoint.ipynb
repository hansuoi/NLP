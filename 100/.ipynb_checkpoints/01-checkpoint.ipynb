{
 "cells": [
  {
   "cell_type": "markdown",
   "metadata": {},
   "source": [
    "# 01章 準備運動\n",
    "## 00 文字列の逆順\n",
    "- 文字列\"stressed\"の文字を逆に並べた文字列を得よ"
   ]
  },
  {
   "cell_type": "code",
   "execution_count": 5,
   "metadata": {},
   "outputs": [],
   "source": [
    "def reverse1(s: str):\n",
    "    \"\"\"\n",
    "    文字列を逆順にして返す\n",
    "    >>> reverse1('stressed')\n",
    "    'desserts'\n",
    "    \"\"\"\n",
    "    result = \"\"\n",
    "\n",
    "    for i in range(len(s)):\n",
    "        # 0 <= i <= len(s)-1\n",
    "        result += s[len(s) - 1 - i]\n",
    "\n",
    "    return result"
   ]
  },
  {
   "cell_type": "code",
   "execution_count": 6,
   "metadata": {},
   "outputs": [
    {
     "data": {
      "text/plain": [
       "'desserts'"
      ]
     },
     "execution_count": 6,
     "metadata": {},
     "output_type": "execute_result"
    }
   ],
   "source": [
    "reverse1('stressed')"
   ]
  },
  {
   "cell_type": "markdown",
   "metadata": {},
   "source": [
    "### Type Hints\n",
    "- 型に関する注釈(型アノテーション)を付けられる仕様\n",
    "- ```s: str```…引数`s`が`str`型であることをアノテート\n",
    "- 返り値のアノテートは`def function(引数) -> str:`」などとする"
   ]
  },
  {
   "cell_type": "code",
   "execution_count": 11,
   "metadata": {},
   "outputs": [],
   "source": [
    "def reverse2(s: str):\n",
    "    \"\"\"\n",
    "    文字列を逆順にして返す\n",
    "    >>> reverse1('stressed')\n",
    "    'desserts'\n",
    "    \"\"\"\n",
    "    return s[::-1]"
   ]
  },
  {
   "cell_type": "code",
   "execution_count": 12,
   "metadata": {},
   "outputs": [
    {
     "data": {
      "text/plain": [
       "'desserts'"
      ]
     },
     "execution_count": 12,
     "metadata": {},
     "output_type": "execute_result"
    }
   ],
   "source": [
    "reverse2('stressed')"
   ]
  },
  {
   "cell_type": "markdown",
   "metadata": {},
   "source": [
    "### スライス\n",
    "- 配列の一部を切り取る方法\n",
    "- `s[start:stop:step]`で指定した部分を切り取る\n",
    "- `start`・`stop`が負の場合は、右から左にカウント\n",
    "- `step`が負の場合は、右からのstepになる"
   ]
  },
  {
   "cell_type": "markdown",
   "metadata": {},
   "source": [
    "## 01 パタトクカシーー\n",
    "- 「パタトクカシーー」から「パトカー」を取り出せ"
   ]
  },
  {
   "cell_type": "code",
   "execution_count": 17,
   "metadata": {},
   "outputs": [],
   "source": [
    "def separate(s: str) -> str:\n",
    "    \"\"\"\n",
    "    文字列の偶数番目を取り出す\n",
    "    >>> separate('パタトクカシーー')\n",
    "    'パトカー'\n",
    "    \"\"\"\n",
    "    return s[::2]"
   ]
  },
  {
   "cell_type": "code",
   "execution_count": 18,
   "metadata": {},
   "outputs": [
    {
     "data": {
      "text/plain": [
       "'パトカー'"
      ]
     },
     "execution_count": 18,
     "metadata": {},
     "output_type": "execute_result"
    }
   ],
   "source": [
    "separate('パタトクカシーー')"
   ]
  },
  {
   "cell_type": "markdown",
   "metadata": {},
   "source": [
    "## 02 パトカー + タクシー = パタトクカシーー\n",
    "- パタトクカシーーを作る"
   ]
  },
  {
   "cell_type": "code",
   "execution_count": 78,
   "metadata": {},
   "outputs": [],
   "source": [
    "def synthesis1(s1: str, s2: str) -> str:\n",
    "    \"\"\"\n",
    "    >>> synthesis1('パトカー', 'タクシー')\n",
    "    'パタトクカシーー'\n",
    "    \"\"\"\n",
    "    result = \"\"\n",
    "\n",
    "    for i in range(len(s1)):\n",
    "        result += s1[i]\n",
    "        result += s2[i]\n",
    "\n",
    "    return result"
   ]
  },
  {
   "cell_type": "code",
   "execution_count": 79,
   "metadata": {},
   "outputs": [
    {
     "data": {
      "text/plain": [
       "'パタトクカシーー'"
      ]
     },
     "execution_count": 79,
     "metadata": {},
     "output_type": "execute_result"
    }
   ],
   "source": [
    "synthesis1('パトカー', 'タクシー')"
   ]
  },
  {
   "cell_type": "code",
   "execution_count": 85,
   "metadata": {},
   "outputs": [],
   "source": [
    "def synthesis2(s1: str, s2: str) -> str:\n",
    "    \"\"\"\n",
    "    文字数が異なった場合の処理を追加\n",
    "    >>> synthesis2('パトカー', 'タクシーバス')\n",
    "    'パタトクカシーーバス'\n",
    "    \"\"\"\n",
    "    result = \"\"\n",
    "\n",
    "    for i in range(min(len(s1), len(s2))):\n",
    "        result += s1[i]\n",
    "        result += s2[i]\n",
    "\n",
    "    # 残った文字列をresultに追加する\n",
    "    i += 1\n",
    "    result += s1[i:]\n",
    "    result += s2[i:]\n",
    "\n",
    "    return result"
   ]
  },
  {
   "cell_type": "code",
   "execution_count": 86,
   "metadata": {},
   "outputs": [
    {
     "data": {
      "text/plain": [
       "'パタトクカシーーバス'"
      ]
     },
     "execution_count": 86,
     "metadata": {},
     "output_type": "execute_result"
    }
   ],
   "source": [
    "synthesis2('パトカー', 'タクシーバス')"
   ]
  },
  {
   "cell_type": "markdown",
   "metadata": {},
   "source": [
    "## 03 円周率\n",
    "- \"Now I need a drink, alcoholic of course, after the heavy lectures involving quantum mechanics.\"という文を単語に分解し,各単語の(アルファベットの)文字数を先頭から出現順に並べたリストを作成せよ.\n",
    "- 和訳「量子力学に関するヘビィな講義の後で、オレは飲み物が欲しかった。もちろんアルコールだ。」"
   ]
  },
  {
   "cell_type": "code",
   "execution_count": 47,
   "metadata": {},
   "outputs": [],
   "source": [
    "def word_counter1(s = 'Now I need a drink, alcoholic of course, after the heavy lectures involving quantum mechanics.'):\n",
    "    \"\"\"\n",
    "    >>> word_counter1()\n",
    "    [3, 1, 4, 1, 5, 9, 2, 6, 5, 3, 5, 8, 9, 7, 9]\n",
    "    \"\"\"\n",
    "    result = []\n",
    "    count = 0\n",
    "\n",
    "    for c in s:\n",
    "        if 'a' <= c <= 'z' or 'A' <= c <= 'Z':\n",
    "            count += 1\n",
    "        elif count > 0:\n",
    "            result.append(count)\n",
    "            count = 0\n",
    "\n",
    "    if count > 0:\n",
    "        result.append(count)\n",
    "\n",
    "    return result"
   ]
  },
  {
   "cell_type": "code",
   "execution_count": 48,
   "metadata": {},
   "outputs": [
    {
     "data": {
      "text/plain": [
       "[3, 1, 4, 1, 5, 9, 2, 6, 5, 3, 5, 8, 9, 7, 9]"
      ]
     },
     "execution_count": 48,
     "metadata": {},
     "output_type": "execute_result"
    }
   ],
   "source": [
    "word_counter1()"
   ]
  },
  {
   "cell_type": "markdown",
   "metadata": {},
   "source": [
    "- else if = elif\n",
    "- `list.append(add)`…配列に追加\n",
    "- `list[start:stop] = list2`…スライスで指定した部分を置き換える"
   ]
  },
  {
   "cell_type": "code",
   "execution_count": 87,
   "metadata": {},
   "outputs": [],
   "source": [
    "def word_counter2(s = 'Now I need a drink, alcoholic of course, after the heavy lectures involving quantum mechanics.'):\n",
    "    \"\"\"\n",
    "    正規表現を使ってみる\n",
    "    >>> word_counter2()\n",
    "    [3, 1, 4, 1, 5, 9, 2, 6, 5, 3, 5, 8, 9, 7, 9]\n",
    "    \"\"\"\n",
    "    import re\n",
    "\n",
    "    result = []\n",
    "\n",
    "    for c in re.findall('[a-zA-Z]+', s):\n",
    "        result.append(len(c))\n",
    "\n",
    "    return result"
   ]
  },
  {
   "cell_type": "code",
   "execution_count": 52,
   "metadata": {},
   "outputs": [
    {
     "data": {
      "text/plain": [
       "[3, 1, 4, 1, 5, 9, 2, 6, 5, 3, 5, 8, 9, 7, 9]"
      ]
     },
     "execution_count": 52,
     "metadata": {},
     "output_type": "execute_result"
    }
   ],
   "source": [
    "word_counter2()"
   ]
  },
  {
   "cell_type": "markdown",
   "metadata": {},
   "source": [
    "### 正規表現\n",
    "- `import re`で正規表現できるモジュールを読み込む\n",
    "- `.`…任意の1文字\n",
    "- `^`…行の先頭\n",
    "- `$`…行の最後\n",
    "- `*`…直前の文字の0個以上の繰り返し\n",
    "- `+`…直前の文字の1個以上の繰り返し\n",
    "- `?`…直前の文字が有るか無いか\n",
    "- `.*`…ワイルドカード\n",
    "- `A|B`…A or B(A, BはString)\n",
    "- `[AB]`…A or B(A, Bはchar)\n",
    "\n",
    "### reモジュールの使い方\n",
    "- `re.match(正規表現パターン, 文字列)`…先頭がパターンに一致するか調べ、一致したらその文字列を返す\n",
    "- `re.search`…先頭に限らず一致するか\n",
    "- `re.findall`…一致する部分全てを確認する"
   ]
  },
  {
   "cell_type": "markdown",
   "metadata": {},
   "source": [
    "## 04 元素記号\n",
    "- \"Hi He Lied Because Boron Could Not Oxidize Fluorine. New Nations Might Also Sign Peace Security Clause. Arthur King Can.\"\n",
    "- という文を単語に分解し,1, 5, 6, 7, 8, 9, 15, 16, 19番目の単語は先頭の1文字,それ以外の単語は先頭2文字を取り出し,取り出した文字列から単語の位置(先頭から何番目の単語か)への連想配列(辞書型もしくはマップ型)を作成せよ."
   ]
  },
  {
   "cell_type": "code",
   "execution_count": 76,
   "metadata": {},
   "outputs": [],
   "source": [
    "def atom(s = 'Hi He Lied Because Boron Could Not Oxidize Fluorine. New Nations Mght Also Sign Peace Security Clause. Arthur King Can.'):\n",
    "    \"\"\"\n",
    "    単語に分解する\n",
    "    [1, 5, 6, 7, 8, 9, 15, 16, 19] 番目は先頭1文字・他は先頭2文字を取り出す\n",
    "    取り出した文字列から単語の位置への連想配列を作る\n",
    "    >>> atom()\n",
    "    {'H': 1, 'He': 2, 'Li': 3, 'Be': 4, 'B': 5, 'C': 6, 'N': 7, 'O': 8, 'F': 9, 'Ne': 10, 'Na': 11, 'Mg': 12, 'Al': 13, 'Si': 14, 'P': 15, 'S': 16, 'Cl': 17, 'Ar': 18, 'K': 19, 'Ca': 20}\n",
    "    \"\"\"\n",
    "    import re\n",
    "\n",
    "    result = {}\n",
    "    number = 0\n",
    "    single = [1, 5, 6, 7, 8, 9, 15, 16, 19]\n",
    "\n",
    "    for c in re.findall('[A-Za-z]+', s):\n",
    "        number += 1\n",
    "        if number in single:\n",
    "            word = c[0]\n",
    "        else:\n",
    "            word = c[:2]\n",
    "        result[word] = number\n",
    "\n",
    "    return result"
   ]
  },
  {
   "cell_type": "code",
   "execution_count": 77,
   "metadata": {
    "scrolled": true
   },
   "outputs": [
    {
     "data": {
      "text/plain": [
       "{'H': 1,\n",
       " 'He': 2,\n",
       " 'Li': 3,\n",
       " 'Be': 4,\n",
       " 'B': 5,\n",
       " 'C': 6,\n",
       " 'N': 7,\n",
       " 'O': 8,\n",
       " 'F': 9,\n",
       " 'Ne': 10,\n",
       " 'Na': 11,\n",
       " 'Mg': 12,\n",
       " 'Al': 13,\n",
       " 'Si': 14,\n",
       " 'P': 15,\n",
       " 'S': 16,\n",
       " 'Cl': 17,\n",
       " 'Ar': 18,\n",
       " 'K': 19,\n",
       " 'Ca': 20}"
      ]
     },
     "execution_count": 77,
     "metadata": {},
     "output_type": "execute_result"
    }
   ],
   "source": [
    "atom()"
   ]
  },
  {
   "cell_type": "markdown",
   "metadata": {},
   "source": [
    "- 連想配列…配列の添え字に名前を付けたもの\n",
    "### ディクショナリ\n",
    "- pythonで連想配列を実現できる機能\n",
    "- キーとバリューの2種類を1セットとして格納していく\n",
    "- `ディクショナリ名 = {}`\n",
    "- `ディクショナリ名 = {キー:バリュー, キー:バリュー, …}`\n",
    "\n",
    "### 配列系のまとめ\n",
    "- `tuple = (a, b)`…タプル。要素の変更等ができない配列\n",
    "- `list = [a, b]`\n",
    "- `dict = {a:1, b:2}`…ディクショナリの引数はキー。`dict[a] == 1`\n",
    "- `set = {a, b}`…後述"
   ]
  },
  {
   "cell_type": "markdown",
   "metadata": {},
   "source": [
    "## 05 n-gram\n",
    "- 与えられたシーケンス(文字列やリストなど)からn-gramを作る関数を作成せよ.この関数を用い,\"I am an NLPer\"という文から単語bi-gram,文字bi-gramを得よ."
   ]
  },
  {
   "cell_type": "markdown",
   "metadata": {},
   "source": [
    "### n-gram\n",
    "- 文字列について、連続する$n$個の要素を順番に列挙したもの\n",
    "- 「神奈川」のバイグラム(2-gram)は、「神奈」「奈川」"
   ]
  },
  {
   "cell_type": "code",
   "execution_count": 115,
   "metadata": {},
   "outputs": [],
   "source": [
    "def ngram(s, n):\n",
    "    \"\"\"\n",
    "    文字列sのn-gramを作成する\n",
    "    >>> ngram('I am an NLPer', 2)\n",
    "    [('I', ' '), (' ', 'a'), ('a', 'm'), ('m', ' '), (' ', 'a'), ('a', 'n'), ('n', ' '), (' ', 'N'), ('N', 'L'), ('L', 'P'), ('P', 'e'), ('e', 'r')]\n",
    "    >>> ngram('I am an NLPer'.split(' '), 2)\n",
    "    [('I', 'am'), ('am', 'an'), ('an', 'NLPer')]\n",
    "    \"\"\"\n",
    "    # タプルのリスト\n",
    "    result = []\n",
    "\n",
    "    for i in range(len(s)):\n",
    "        add = ()\n",
    "        for j in range(n):\n",
    "            add += (s[i + j],)\n",
    "        result.append(add)\n",
    "        if i+n == len(s):\n",
    "            break\n",
    "\n",
    "    return result"
   ]
  },
  {
   "cell_type": "markdown",
   "metadata": {},
   "source": [
    "### タプルの仕様について\n",
    "- ↑の14行目\n",
    "- 追加・変更・削除はできないが、連結はできる。`+`で行う\n",
    "- 要素数1のタプルは、`(a,)`と、必ずカンマを1つ付ける"
   ]
  },
  {
   "cell_type": "code",
   "execution_count": 112,
   "metadata": {},
   "outputs": [
    {
     "data": {
      "text/plain": [
       "[('I', ' '),\n",
       " (' ', 'a'),\n",
       " ('a', 'm'),\n",
       " ('m', ' '),\n",
       " (' ', 'a'),\n",
       " ('a', 'n'),\n",
       " ('n', ' '),\n",
       " (' ', 'N'),\n",
       " ('N', 'L'),\n",
       " ('L', 'P'),\n",
       " ('P', 'e'),\n",
       " ('e', 'r')]"
      ]
     },
     "execution_count": 112,
     "metadata": {},
     "output_type": "execute_result"
    }
   ],
   "source": [
    "ngram('I am an NLPer', 2)"
   ]
  },
  {
   "cell_type": "code",
   "execution_count": 113,
   "metadata": {},
   "outputs": [
    {
     "name": "stdout",
     "output_type": "stream",
     "text": [
      "['I', 'am', 'an', 'NLPer']\n"
     ]
    },
    {
     "data": {
      "text/plain": [
       "[('I', 'am'), ('am', 'an'), ('an', 'NLPer')]"
      ]
     },
     "execution_count": 113,
     "metadata": {},
     "output_type": "execute_result"
    }
   ],
   "source": [
    "print('I am an NLPer'.split(' '))\n",
    "ngram('I am an NLPer'.split(' '), 2)"
   ]
  },
  {
   "cell_type": "markdown",
   "metadata": {},
   "source": [
    "### str.split()\n",
    "- スペース・タブ・改行で文字列を分割する\n",
    "- 第一引数に指定した文字だけで分割することもできる"
   ]
  },
  {
   "cell_type": "markdown",
   "metadata": {},
   "source": [
    "## 06 集合\n",
    "- 'paraparaparadise'と'paragraph'に含まれる文字bi-gramの集合を,それぞれ, XとYとして求め,XとYの和集合,積集合,差集合を求めよ.さらに,'se'というbi-gramがXおよびYに含まれるかどうかを調べよ."
   ]
  },
  {
   "cell_type": "markdown",
   "metadata": {},
   "source": [
    "### setクラス\n",
    "- 集合のクラス\n",
    "- リスト型のような更新可能オブジェクトは要素に持てない\n",
    "- `{a, b}`で作ったり`set([a, b])`で作ったり\n",
    "- `{}`は空集合にならず、空のディクショナリ扱い。`set()`は空集合"
   ]
  },
  {
   "cell_type": "code",
   "execution_count": 120,
   "metadata": {},
   "outputs": [
    {
     "name": "stdout",
     "output_type": "stream",
     "text": [
      "[('a', 'd'), ('a', 'g'), ('a', 'p'), ('a', 'r'), ('d', 'i'), ('g', 'r'), ('i', 's'), ('p', 'a'), ('p', 'h'), ('r', 'a'), ('s', 'e')]\n",
      "\n",
      "[('a', 'p'), ('a', 'r'), ('p', 'a'), ('r', 'a')]\n",
      "\n",
      "[('a', 'd'), ('d', 'i'), ('i', 's'), ('s', 'e')]\n",
      "\n",
      "True\n",
      "False\n"
     ]
    }
   ],
   "source": [
    "def XYset():\n",
    "    x = set(ngram('paraparaparadise', 2))\n",
    "    y = set(ngram('paragraph', 2))\n",
    "    \n",
    "    # 和集合 xまたはy\n",
    "    print(sorted(x|y), end='\\n\\n')\n",
    "    \n",
    "    # 積集合 xかつy\n",
    "    print(sorted(x&y), end='\\n\\n')\n",
    "    \n",
    "    # 差集合\n",
    "    print(sorted(x-y), end='\\n\\n')\n",
    "    \n",
    "    # 'se'があるか調べる\n",
    "    search = ('s', 'e')\n",
    "    print(search in x)\n",
    "    print(search in y)\n",
    "\n",
    "\n",
    "XYset()"
   ]
  },
  {
   "cell_type": "markdown",
   "metadata": {},
   "source": [
    "## 07 テンプレートによる文生成\n",
    "- 引数$x$, $y$, $z$を受け取り「$x$時の$y$は$z$」という文字列を返す関数を実装せよ.さらに,$x=12$, $y=$\"気温\", $z=22.4$として,実行結果を確認せよ."
   ]
  },
  {
   "cell_type": "code",
   "execution_count": 121,
   "metadata": {},
   "outputs": [
    {
     "data": {
      "text/plain": [
       "'12時の気温は22.4'"
      ]
     },
     "execution_count": 121,
     "metadata": {},
     "output_type": "execute_result"
    }
   ],
   "source": [
    "def template(x, y, z):\n",
    "    \"\"\"\n",
    "    >>> template(12, '気温', 22.4)\n",
    "    '12時の気温は22.4'\n",
    "    \"\"\"\n",
    "    return '{}時の{}は{}'.format(x, y, z)\n",
    "\n",
    "\n",
    "template(12, '気温', 22.4)"
   ]
  },
  {
   "cell_type": "markdown",
   "metadata": {},
   "source": [
    "### formatメソッド\n",
    "- `+`による文字列の連結とか、Cのprintfみたいに`%`使う方法とか、色々あるけど、formatメソッドを活用するのが可読性が高いとされている。\n",
    "- インデックス番号を指定することもできる。\n",
    "    - `\"{0}さんの身長は{1}cmです。{0}さんの体重は{2}kgです。\".format(\"山田\", 190, 105.3)`\n",
    "    - `山田さんの身長は190cmです。山田さんの体重は105.3kgです。`"
   ]
  },
  {
   "cell_type": "markdown",
   "metadata": {},
   "source": [
    "## 08 暗号文\n",
    "- 与えられた文字列の各文字を,以下の仕様で変換する関数cipherを実装せよ.\n",
    "- 英小文字ならば(219 - 文字コード)の文字に置換. その他の文字はそのまま出力\n",
    "    - a～zをz～aに入れ替えることになる。\n",
    "- この関数を用い,英語のメッセージを暗号化・復号化せよ.\n",
    "    - 入れ替え処理なので、2回変換すれば元に戻る"
   ]
  },
  {
   "cell_type": "code",
   "execution_count": 129,
   "metadata": {},
   "outputs": [],
   "source": [
    "def cipher(s: str) -> str:\n",
    "    \"\"\"\n",
    "    >>> cipher('cba')\n",
    "    'xyz'\n",
    "    >>> cipher(cipher('My name is Suzuki.'))\n",
    "    'My name is Suzuki.'\n",
    "    \"\"\"\n",
    "    result = ''\n",
    "\n",
    "    for c in s:\n",
    "        if 'a' <= c <= 'z':\n",
    "            result += chr(219 - ord(c))\n",
    "        else:\n",
    "            result += c\n",
    "\n",
    "    return result"
   ]
  },
  {
   "cell_type": "code",
   "execution_count": 131,
   "metadata": {},
   "outputs": [
    {
     "data": {
      "text/plain": [
       "'xyz'"
      ]
     },
     "execution_count": 131,
     "metadata": {},
     "output_type": "execute_result"
    }
   ],
   "source": [
    "cipher('cba')"
   ]
  },
  {
   "cell_type": "code",
   "execution_count": 132,
   "metadata": {},
   "outputs": [
    {
     "data": {
      "text/plain": [
       "'My name is Suzuki.'"
      ]
     },
     "execution_count": 132,
     "metadata": {},
     "output_type": "execute_result"
    }
   ],
   "source": [
    "cipher(cipher('My name is Suzuki.'))"
   ]
  },
  {
   "cell_type": "markdown",
   "metadata": {},
   "source": [
    "### アスキーコード\n",
    "- `ord`でアスキーコードを得る。\n",
    "- `chr`で文字に変換"
   ]
  },
  {
   "cell_type": "markdown",
   "metadata": {},
   "source": [
    "## 09 Typoglycemia\n",
    "- スペースで区切られた単語列に対して,各単語の先頭と末尾の文字は残し,それ以外の文字の順序をランダムに並び替えるプログラムを作成せよ.\n",
    "- ただし,長さが4以下の単語は並び替えないこととする.\n",
    "- 適当な英語の文(例えば\"I could not believe that I could actually understand what I was reading : the phenomenal power of the human mind .\")を与え,その実行結果を確認せよ.\n",
    "\n",
    "\n",
    "- タイポグリセミア…最初と最後が合っていれば、単語を構成する文字を並び替えても読めちゃう現象"
   ]
  },
  {
   "cell_type": "code",
   "execution_count": 106,
   "metadata": {},
   "outputs": [],
   "source": [
    "def typoglycemia_word(s):\n",
    "    \"\"\"\n",
    "    1単語に対して、先頭と末尾以外のつづりを入れ替える。\n",
    "    ただし、4文字以下の単語に対しては何も行わない。\n",
    "    \"\"\"\n",
    "    import random\n",
    "    import copy\n",
    "\n",
    "    if len(s) <= 4:\n",
    "        return s\n",
    "\n",
    "    original = copy.copy(s)\n",
    "\n",
    "    # 同じ並びになっていたらもう一度\n",
    "    while(original == s):\n",
    "        # str型は要素の入れ替えができないので、一回list型にキャスト\n",
    "        s = list(s)\n",
    "\n",
    "        # i 番目とrand番目とを入れ替える\n",
    "        # 文字列の末尾len(s)-1番目は入れ替え対象ではない。i <= rand <= len(s)-2\n",
    "        # i = len(s)-2の時入れ替え相手は自分。無駄。i <= len(s)-3\n",
    "        for i in range(1, len(s)-3):\n",
    "            rand = random.randint(i, len(s)-2)\n",
    "            temp = s[i]\n",
    "            s[i] = s[rand]\n",
    "            s[rand] = temp\n",
    "\n",
    "        # このままsを返すと文字のリスト['a', 'b', 'c'] 等が返ってくる\n",
    "        # joinで、リストの中身を全部結合させた配列を作る\n",
    "        s = ''.join(s)\n",
    "\n",
    "    return s\n",
    "\n",
    "\n",
    "def typoglycemia(s):\n",
    "    \"\"\"\n",
    "    文章に対してtypoglycemiaの処理を行う\n",
    "    \"\"\"\n",
    "    result = ''\n",
    "    word = ''\n",
    "\n",
    "    for c in s:\n",
    "        if 'A' <= c <= 'Z' or 'a' <= c <= 'z':\n",
    "            word += c\n",
    "        else:  # スペースとかカンマとかピリオドとかのとき\n",
    "            result += typoglycemia_word(word)\n",
    "            result += c\n",
    "            word = ''\n",
    "\n",
    "    return result"
   ]
  },
  {
   "cell_type": "code",
   "execution_count": 107,
   "metadata": {},
   "outputs": [
    {
     "data": {
      "text/plain": [
       "'hlelo'"
      ]
     },
     "execution_count": 107,
     "metadata": {},
     "output_type": "execute_result"
    }
   ],
   "source": [
    "typoglycemia_word('hello')"
   ]
  },
  {
   "cell_type": "code",
   "execution_count": 109,
   "metadata": {},
   "outputs": [
    {
     "data": {
      "text/plain": [
       "'I cluod not bleeive that I cluod altulcay untdeansrd what I was rdaieng : the pneemonhal pwoer of the hamun mind .'"
      ]
     },
     "execution_count": 109,
     "metadata": {},
     "output_type": "execute_result"
    }
   ],
   "source": [
    "typoglycemia('I could not believe that I could actually understand what I was reading : the phenomenal power of the human mind .')"
   ]
  },
  {
   "cell_type": "code",
   "execution_count": 110,
   "metadata": {},
   "outputs": [],
   "source": [
    "def typoglycemia_jpn(s):\n",
    "    \"\"\"\n",
    "    日本語の文章に対してtypoglycemiaの処理を行う\n",
    "    \"\"\"\n",
    "    result = ''\n",
    "    word = ''\n",
    "\n",
    "    for c in s:\n",
    "        if c == '、' or c == '。' or c == ' ':\n",
    "            result += typoglycemia_word(word)\n",
    "            result += c\n",
    "            word = ''\n",
    "        else:\n",
    "            word += c\n",
    "\n",
    "    return result"
   ]
  },
  {
   "cell_type": "code",
   "execution_count": 111,
   "metadata": {},
   "outputs": [
    {
     "data": {
      "text/plain": [
       "'こにんちは。'"
      ]
     },
     "execution_count": 111,
     "metadata": {},
     "output_type": "execute_result"
    }
   ],
   "source": [
    "typoglycemia_jpn('こんにちは。')"
   ]
  },
  {
   "cell_type": "code",
   "execution_count": 112,
   "metadata": {},
   "outputs": [
    {
     "data": {
      "text/plain": [
       "'ほじんつは せんていなり。'"
      ]
     },
     "execution_count": 112,
     "metadata": {},
     "output_type": "execute_result"
    }
   ],
   "source": [
    "typoglycemia_jpn('ほんじつは せいてんなり。')"
   ]
  }
 ],
 "metadata": {
  "kernelspec": {
   "display_name": "Python 3",
   "language": "python",
   "name": "python3"
  },
  "language_info": {
   "codemirror_mode": {
    "name": "ipython",
    "version": 3
   },
   "file_extension": ".py",
   "mimetype": "text/x-python",
   "name": "python",
   "nbconvert_exporter": "python",
   "pygments_lexer": "ipython3",
   "version": "3.7.4"
  }
 },
 "nbformat": 4,
 "nbformat_minor": 2
}
