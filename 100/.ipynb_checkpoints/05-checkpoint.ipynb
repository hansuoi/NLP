{
 "cells": [
  {
   "cell_type": "markdown",
   "metadata": {},
   "source": [
    "## 40 係り受け解析結果の読み込み(形態素)\n",
    "- 形態素を表すクラス`Morph`を実装する。メンバ変数は表層形surface・基本形base・品詞pos・品詞細分類pos1をメンバ変数に持つ\n",
    "- neko.txt.cabochaを読み込み、各分を`Morph`オブジェクトのリストとして表現し、3文目の形態素列を表示する"
   ]
  },
  {
   "cell_type": "code",
   "execution_count": 16,
   "metadata": {},
   "outputs": [
    {
     "name": "stdout",
     "output_type": "stream",
     "text": [
      "* 0 -1D 0/0 0.000000\n",
      "一\t名詞,数,*,*,*,*,一,イチ,イチ\n",
      "\n",
      "{'surface': '名前', 'base': '名前', 'pos': '名詞', 'pos1': '一般'}\n",
      "{'surface': 'は', 'base': 'は', 'pos': '助詞', 'pos1': '係助詞'}\n",
      "{'surface': 'まだ', 'base': 'まだ', 'pos': '副詞', 'pos1': '助詞類接続'}\n",
      "{'surface': '無い', 'base': '無い', 'pos': '形容詞', 'pos1': '自立'}\n",
      "{'surface': '。', 'base': '。', 'pos': '記号', 'pos1': '句点'}\n"
     ]
    }
   ],
   "source": [
    "class Morph:\n",
    "    # コンストラクタ\n",
    "    def __init__(self, dc):\n",
    "        self.surface = dc['surface']\n",
    "        self.base = dc['base']\n",
    "        self.pos = dc['pos']\n",
    "        self.pos1 = dc['pos1']\n",
    "\n",
    "\n",
    "def parseCaboCha (block):\n",
    "    # Morphのリスト\n",
    "    res = []\n",
    "    \n",
    "    # split('\\n') = 改行でリストの各要素に分割\n",
    "    for line in block.split('\\n'):\n",
    "        # split() は最後に空の要素が付いてくるので、これが終端条件\n",
    "        if line == '':\n",
    "            return res\n",
    "        elif line[0] == '*':\n",
    "            continue\n",
    "        \n",
    "        # タブで分割した前後を、それぞれsurface・attrに格納\n",
    "        # こう書くときは分割後の数と変数の数とが一致してないとエラー\n",
    "        # 左辺が1変数の時は分割されたリストになる(attrの方の書き方)\n",
    "        (surface, attr) = line.split('\\t')\n",
    "        attr = attr.split(',')\n",
    "        \n",
    "        lineDict = {\n",
    "            'surface' : surface,\n",
    "            'base' : attr[6],\n",
    "            'pos' : attr[0],\n",
    "            'pos1' : attr[1]\n",
    "        }\n",
    "        \n",
    "        # 新しいMorphオブジェクトをresに追加\n",
    "        res.append(Morph(lineDict))\n",
    "\n",
    "\n",
    "filename = './neko.txt.cabocha'\n",
    "with open(filename, mode='rt', encoding='utf-8') as f:\n",
    "    blockList = f.read().split('EOS\\n')\n",
    "\n",
    "# filter(function, iterable)\n",
    "# iterableの要素の内、functionがTrueになる要素だけからなるリストを返す\n",
    "# 厳密には、filter()で出てきたfilter objectをlist()でリスト化している\n",
    "blockList = list(filter(lambda x: x != '', blockList))\n",
    "print(blockList[0])\n",
    "\n",
    "blockList = [parseCaboCha(block) for block in blockList]\n",
    "for m in blockList[2]:\n",
    "    print(vars(m))"
   ]
  }
 ],
 "metadata": {
  "kernelspec": {
   "display_name": "Python 3",
   "language": "python",
   "name": "python3"
  },
  "language_info": {
   "codemirror_mode": {
    "name": "ipython",
    "version": 3
   },
   "file_extension": ".py",
   "mimetype": "text/x-python",
   "name": "python",
   "nbconvert_exporter": "python",
   "pygments_lexer": "ipython3",
   "version": "3.7.7"
  }
 },
 "nbformat": 4,
 "nbformat_minor": 4
}
