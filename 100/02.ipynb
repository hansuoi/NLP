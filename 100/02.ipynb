{
 "cells": [
  {
   "cell_type": "markdown",
   "metadata": {},
   "source": [
    "# 第2章: UNIXコマンドの基礎\n",
    "- とは言えUNIXマシンが無いのでコマンドの確認はしません(白目)\n",
    "\n",
    "\n",
    "## 10 行数のカウント\n",
    "- hightemp.txtの行数をカウントする"
   ]
  },
  {
   "cell_type": "code",
   "execution_count": 11,
   "metadata": {},
   "outputs": [
    {
     "name": "stdout",
     "output_type": "stream",
     "text": [
      "24\n"
     ]
    }
   ],
   "source": [
    "def count_lines1(file):\n",
    "    \"\"\"\n",
    "    >>> count_lines1('hightemp.txt')\n",
    "    24\n",
    "    \"\"\"\n",
    "    with open(file, 'r', encoding='utf-8') as f:\n",
    "        print(len(f.readlines()))\n",
    "\n",
    "\n",
    "count_lines1('hightemp.txt')"
   ]
  },
  {
   "cell_type": "code",
   "execution_count": 12,
   "metadata": {},
   "outputs": [
    {
     "data": {
      "text/plain": [
       "24"
      ]
     },
     "execution_count": 12,
     "metadata": {},
     "output_type": "execute_result"
    }
   ],
   "source": [
    "def count_lines2(file):\n",
    "    \"\"\"\n",
    "    >>> count_lines2('hightemp.txt')\n",
    "    24\n",
    "    \"\"\"\n",
    "    count = 0\n",
    "    with open(file, 'r', encoding=('utf-8')) as f:\n",
    "        for _ in f:\n",
    "            count += 1\n",
    "    return count\n",
    "\n",
    "\n",
    "count_lines2('hightemp.txt')"
   ]
  },
  {
   "cell_type": "markdown",
   "metadata": {},
   "source": [
    "### open\n",
    "- `f = open(path)`で取り込んだ場合は、必ず`f.close()`を叩く\n",
    "- `with open(path) as f:`で取り込んだ場合は、その中の処理が終わったら自動で`close`してくれる\n",
    "\n",
    "\n",
    "- `mode='r'`…読み込み用でオープン\n",
    "- `mode='w'`…書き込み用でオープン。新規or上書き\n",
    "- `mode='x'`…新規作成専用で書き込み用オープン\n",
    "- `mode='a'`…末尾に追記モードでオープン。存在しなければ新規作成\n",
    "\n",
    "\n",
    "- `s = f.read()`…開いたファイル全体を文字列として取り込む\n",
    "- `l = f.readlines()`…行ごとに分割したリストとして取り込む\n",
    "- `l = f.readline()`…頭から1行ずつ順番に取り込む\n",
    "\n",
    "\n",
    "- `f.write(s)`…`f`に`s`を書き込む\n",
    "- `f.writelines(l)`…`f`にリスト`l`の各要素を結合した文字列を書き込む\n",
    "\n",
    "\n",
    "- 挿入の手順\n",
    "    1. `l = f.readlines()`で読み込む\n",
    "    1. `l.insert(行数, '挿入文字列')`でリストに書き込む\n",
    "    1. `f.writelines(l)`でリストの内容をファイルに書き込む\n",
    "\n",
    "\n",
    "### try, except\n",
    "- `try:`\n",
    "    - 何かしらの処理\n",
    "- `except` 何かしらの処理で起こりうるエラー名:\n",
    "    - エラーが発生した時の処理\n",
    "\n",
    "\n",
    "### osモジュール\n",
    "- `import os`\n",
    "- `path = os.path.exists(path)`…指定ファイルの有無を確認"
   ]
  },
  {
   "cell_type": "markdown",
   "metadata": {},
   "source": [
    "## 11 タブをスペースに置換\n",
    "- タブ1文字につきスペース1文字に置換せよ"
   ]
  },
  {
   "cell_type": "code",
   "execution_count": 13,
   "metadata": {},
   "outputs": [
    {
     "name": "stdout",
     "output_type": "stream",
     "text": [
      "['高知県\\t江川崎\\t41\\t2013-08-12\\n', '埼玉県\\t熊谷\\t40.9\\t2007-08-16\\n', '岐阜県\\t多治見\\t40.9\\t2007-08-16\\n', '山形県\\t山形\\t40.8\\t1933-07-25\\n', '山梨県\\t甲府\\t40.7\\t2013-08-10\\n', '和歌山県\\tかつらぎ\\t40.6\\t1994-08-08\\n', '静岡県\\t天竜\\t40.6\\t1994-08-04\\n', '山梨県\\t勝沼\\t40.5\\t2013-08-10\\n', '埼玉県\\t越谷\\t40.4\\t2007-08-16\\n', '群馬県\\t館林\\t40.3\\t2007-08-16\\n', '群馬県\\t上里見\\t40.3\\t1998-07-04\\n', '愛知県\\t愛西\\t40.3\\t1994-08-05\\n', '千葉県\\t牛久\\t40.2\\t2004-07-20\\n', '静岡県\\t佐久間\\t40.2\\t2001-07-24\\n', '愛媛県\\t宇和島\\t40.2\\t1927-07-22\\n', '山形県\\t酒田\\t40.1\\t1978-08-03\\n', '岐阜県\\t美濃\\t40\\t2007-08-16\\n', '群馬県\\t前橋\\t40\\t2001-07-24\\n', '千葉県\\t茂原\\t39.9\\t2013-08-11\\n', '埼玉県\\t鳩山\\t39.9\\t1997-07-05\\n', '大阪府\\t豊中\\t39.9\\t1994-08-08\\n', '山梨県\\t大月\\t39.9\\t1990-07-19\\n', '山形県\\t鶴岡\\t39.9\\t1978-08-03\\n', '愛知県\\t名古屋\\t39.9\\t1942-08-02\\n']\n",
      "\n",
      "['高知県 江川崎 41 2013-08-12\\n', '埼玉県 熊谷 40.9 2007-08-16\\n', '岐阜県 多治見 40.9 2007-08-16\\n', '山形県 山形 40.8 1933-07-25\\n', '山梨県 甲府 40.7 2013-08-10\\n', '和歌山県 かつらぎ 40.6 1994-08-08\\n', '静岡県 天竜 40.6 1994-08-04\\n', '山梨県 勝沼 40.5 2013-08-10\\n', '埼玉県 越谷 40.4 2007-08-16\\n', '群馬県 館林 40.3 2007-08-16\\n', '群馬県 上里見 40.3 1998-07-04\\n', '愛知県 愛西 40.3 1994-08-05\\n', '千葉県 牛久 40.2 2004-07-20\\n', '静岡県 佐久間 40.2 2001-07-24\\n', '愛媛県 宇和島 40.2 1927-07-22\\n', '山形県 酒田 40.1 1978-08-03\\n', '岐阜県 美濃 40 2007-08-16\\n', '群馬県 前橋 40 2001-07-24\\n', '千葉県 茂原 39.9 2013-08-11\\n', '埼玉県 鳩山 39.9 1997-07-05\\n', '大阪府 豊中 39.9 1994-08-08\\n', '山梨県 大月 39.9 1990-07-19\\n', '山形県 鶴岡 39.9 1978-08-03\\n', '愛知県 名古屋 39.9 1942-08-02\\n']\n"
     ]
    }
   ],
   "source": [
    "def tab_space(path):\n",
    "    \"\"\"\n",
    "    tabをスペースに置換する\n",
    "    \"\"\"\n",
    "    with open(path, 'r', encoding='utf-8') as f_read:\n",
    "        with open('./nlp11.txt', 'w', encoding='utf-8') as f_write:\n",
    "            for line in f_read:\n",
    "                f_write.write(line.replace('\\t', ' '))\n",
    "\n",
    "\n",
    "path = './hightemp.txt'\n",
    "with open('./hightemp.txt', 'r', encoding='utf-8') as f:\n",
    "    print(f.readlines(), end='\\n\\n')\n",
    "\n",
    "tab_space('./hightemp.txt')\n",
    "\n",
    "with open('./nlp11.txt', 'r', encoding='utf-8') as f:\n",
    "    print(f.readlines())"
   ]
  },
  {
   "cell_type": "markdown",
   "metadata": {},
   "source": [
    "## 12 1列目をcol1.txtに,2列目をcol2.txtに保存\n",
    "- 各行の1列目だけを抜き出したものをcol1.txtに,2列目だけを抜き出したものをcol2.txtとしてファイルに保存せよ"
   ]
  },
  {
   "cell_type": "code",
   "execution_count": 14,
   "metadata": {},
   "outputs": [
    {
     "name": "stdout",
     "output_type": "stream",
     "text": [
      "高知県\n",
      "埼玉県\n",
      "岐阜県\n",
      "山形県\n",
      "山梨県\n",
      "和歌山県\n",
      "静岡県\n",
      "山梨県\n",
      "埼玉県\n",
      "群馬県\n",
      "群馬県\n",
      "愛知県\n",
      "千葉県\n",
      "静岡県\n",
      "愛媛県\n",
      "山形県\n",
      "岐阜県\n",
      "群馬県\n",
      "千葉県\n",
      "埼玉県\n",
      "大阪府\n",
      "山梨県\n",
      "山形県\n",
      "愛知県\n",
      "\n",
      "江川崎\n",
      "熊谷\n",
      "多治見\n",
      "山形\n",
      "甲府\n",
      "かつらぎ\n",
      "天竜\n",
      "勝沼\n",
      "越谷\n",
      "館林\n",
      "上里見\n",
      "愛西\n",
      "牛久\n",
      "佐久間\n",
      "宇和島\n",
      "酒田\n",
      "美濃\n",
      "前橋\n",
      "茂原\n",
      "鳩山\n",
      "豊中\n",
      "大月\n",
      "鶴岡\n",
      "名古屋\n",
      "\n"
     ]
    }
   ],
   "source": [
    "def col(path='./hightemp.txt'):\n",
    "    with open(path, 'r', encoding='utf-8') as f:\n",
    "                size = count_lines2(path)    # 行数を取得\n",
    "                data = [[] for i in range(size)]    # 行数分の2次元配列\n",
    "\n",
    "                i = 0\n",
    "                for l in f:\n",
    "                    data[i] += list(l.split('\\t'))\n",
    "                    i += 1\n",
    "\n",
    "    with open('./col1.txt', 'w', encoding='utf-8') as col1:\n",
    "        with open('./col2.txt', 'w', encoding='utf-8') as col2:\n",
    "            for i in range(size):\n",
    "                col1.write(data[i][0])\n",
    "                col1.write('\\n')\n",
    "                col2.write(data[i][1])\n",
    "                col2.write('\\n')\n",
    "\n",
    "\n",
    "col()\n",
    "with open('./col1.txt', 'r', encoding='utf-8') as col1:\n",
    "    with open('./col2.txt', 'r', encoding='utf-8') as col2:\n",
    "        print(col1.read())\n",
    "        print(col2.read())"
   ]
  },
  {
   "cell_type": "markdown",
   "metadata": {},
   "source": [
    "## 13 col1.txtとcol2.txtをマージ\n",
    "- 12で作ったcol1.txtとcol2.txtを結合し,元のファイルの1列目と2列目をタブ区切りで並べたテキストファイルを作成せよ."
   ]
  },
  {
   "cell_type": "code",
   "execution_count": 15,
   "metadata": {},
   "outputs": [
    {
     "name": "stdout",
     "output_type": "stream",
     "text": [
      "['高知県\\t江川崎\\n', '埼玉県\\t熊谷\\n', '岐阜県\\t多治見\\n', '山形県\\t山形\\n', '山梨県\\t甲府\\n', '和歌山県\\tかつらぎ\\n', '静岡県\\t天竜\\n', '山梨県\\t勝沼\\n', '埼玉県\\t越谷\\n', '群馬県\\t館林\\n', '群馬県\\t上里見\\n', '愛知県\\t愛西\\n', '千葉県\\t牛久\\n', '静岡県\\t佐久間\\n', '愛媛県\\t宇和島\\n', '山形県\\t酒田\\n', '岐阜県\\t美濃\\n', '群馬県\\t前橋\\n', '千葉県\\t茂原\\n', '埼玉県\\t鳩山\\n', '大阪府\\t豊中\\n', '山梨県\\t大月\\n', '山形県\\t鶴岡\\n', '愛知県\\t名古屋\\n']\n"
     ]
    }
   ],
   "source": [
    "def merge1 (col1_path='./col1.txt', col2_path='./col2.txt'):\n",
    "    with open(col1_path, 'r', encoding='utf-8') as col1:\n",
    "        data1 = col1.readlines()\n",
    "    with open(col2_path, 'r', encoding='utf-8') as col2:\n",
    "        data2 = col2.readlines()\n",
    "\n",
    "    s = []\n",
    "    for i in range(min(len(data1), len(data2))):\n",
    "        s += data1[i].strip()\n",
    "        s += '\\t'\n",
    "        s += data2[i]\n",
    "\n",
    "    with open('./col.txt', 'w', encoding='utf-8') as col_w:\n",
    "        col_w.writelines(s)\n",
    "    \n",
    "    with open('./col.txt', 'r', encoding='utf-8') as col_r:\n",
    "        s = col_r.readlines()\n",
    "        print(s)\n",
    "\n",
    "\n",
    "merge1()"
   ]
  },
  {
   "cell_type": "markdown",
   "metadata": {},
   "source": [
    "### strip\n",
    "- `String.strip('chars')`で、`String`から`chars`を削除できる\n",
    "- 引数が無い場合は、空白文字(タブとか改行とかも含む)を削除してくれる"
   ]
  },
  {
   "cell_type": "code",
   "execution_count": 16,
   "metadata": {},
   "outputs": [
    {
     "name": "stdout",
     "output_type": "stream",
     "text": [
      "['高知県\\t江川崎\\n', '埼玉県\\t熊谷\\n', '岐阜県\\t多治見\\n', '山形県\\t山形\\n', '山梨県\\t甲府\\n', '和歌山県\\tかつらぎ\\n', '静岡県\\t天竜\\n', '山梨県\\t勝沼\\n', '埼玉県\\t越谷\\n', '群馬県\\t館林\\n', '群馬県\\t上里見\\n', '愛知県\\t愛西\\n', '千葉県\\t牛久\\n', '静岡県\\t佐久間\\n', '愛媛県\\t宇和島\\n', '山形県\\t酒田\\n', '岐阜県\\t美濃\\n', '群馬県\\t前橋\\n', '千葉県\\t茂原\\n', '埼玉県\\t鳩山\\n', '大阪府\\t豊中\\n', '山梨県\\t大月\\n', '山形県\\t鶴岡\\n', '愛知県\\t名古屋\\n']\n"
     ]
    }
   ],
   "source": [
    "def merge2 (col1_path='./col1.txt', col2_path='./col2.txt'):\n",
    "    with open(col1_path, 'r', encoding='utf-8') as col1:\n",
    "        data1 = list(l.strip() for l in col1)\n",
    "    with open(col2_path, 'r', encoding='utf-8') as col2:\n",
    "        data2 = list(l.strip() for l in col2)\n",
    "\n",
    "    with open('./col_f.txt', 'w', encoding='utf-8') as col_w:\n",
    "        for s1, s2 in zip(data1, data2):\n",
    "            col_w.write('{}\\t{}\\n'.format(s1, s2))\n",
    "\n",
    "    with open('./col_f.txt', 'r', encoding='utf-8') as col_r:\n",
    "        print(col_r.readlines())\n",
    "\n",
    "\n",
    "merge2()"
   ]
  },
  {
   "cell_type": "markdown",
   "metadata": {},
   "source": [
    "### リスト内包表記"
   ]
  },
  {
   "cell_type": "code",
   "execution_count": 17,
   "metadata": {},
   "outputs": [
    {
     "name": "stdout",
     "output_type": "stream",
     "text": [
      "[0, 1, 2]\n",
      "[0, 1, 2]\n"
     ]
    }
   ],
   "source": [
    "nums1 = []\n",
    "for i in range(3):\n",
    "    nums1.append(i)\n",
    "print(nums1)\n",
    "\n",
    "nums2 = [i for i in range(3)]\n",
    "print(nums2)"
   ]
  },
  {
   "cell_type": "markdown",
   "metadata": {},
   "source": [
    "### zip\n",
    "- 3個以上でもいける"
   ]
  },
  {
   "cell_type": "code",
   "execution_count": 18,
   "metadata": {},
   "outputs": [
    {
     "name": "stdout",
     "output_type": "stream",
     "text": [
      "[('A', 1), ('B', 2), ('C', 3)]\n",
      "A 1\n",
      "B 2\n",
      "C 3\n"
     ]
    }
   ],
   "source": [
    "a = ['A', 'B', 'C']\n",
    "b = [1, 2, 3]\n",
    "print(list(zip(a, b)))\n",
    "\n",
    "for c, n in zip(a, b):\n",
    "    print(c, n)"
   ]
  },
  {
   "cell_type": "markdown",
   "metadata": {},
   "source": [
    "## 14 先頭からN行を出力\n",
    "- 自然数Nをコマンドライン引数などの手段で受け取り,入力のうち先頭のN行だけを表示"
   ]
  },
  {
   "cell_type": "code",
   "execution_count": 19,
   "metadata": {
    "scrolled": true
   },
   "outputs": [
    {
     "name": "stdout",
     "output_type": "stream",
     "text": [
      "高知県\n",
      "\n",
      "埼玉県\n",
      "\n",
      "岐阜県\n",
      "\n"
     ]
    }
   ],
   "source": [
    "def head(N:int, path='./col1.txt'):\n",
    "    with open(path, 'r', encoding='utf-8') as f:\n",
    "        s = f.readlines()\n",
    "\n",
    "    for i in range(min(N, len(s))):\n",
    "        print(s[i])\n",
    "\n",
    "\n",
    "head(3)"
   ]
  },
  {
   "cell_type": "markdown",
   "metadata": {},
   "source": [
    "## 15 末尾のN行を出力\n",
    "- 自然数Nをコマンドライン引数などの手段で受け取り,入力のうち末尾のN行だけを表示"
   ]
  },
  {
   "cell_type": "code",
   "execution_count": 20,
   "metadata": {
    "scrolled": true
   },
   "outputs": [
    {
     "name": "stdout",
     "output_type": "stream",
     "text": [
      "愛知県\n",
      "\n",
      "山形県\n",
      "\n",
      "山梨県\n",
      "\n"
     ]
    }
   ],
   "source": [
    "def tail(N:int, path='./col1.txt'):\n",
    "    with open(path, 'r', encoding='utf-8') as f:\n",
    "        s = f.readlines()\n",
    "\n",
    "    for i in range(1, min(N, len(s))+1):\n",
    "        print(s[len(s)-i])\n",
    "\n",
    "\n",
    "tail(3)"
   ]
  },
  {
   "cell_type": "markdown",
   "metadata": {},
   "source": [
    "## 16 ファイルを$N$分割する\n",
    "- 自然数$N$を受け取り、入力のファイルを行単位で$N$分割する"
   ]
  },
  {
   "cell_type": "code",
   "execution_count": 37,
   "metadata": {},
   "outputs": [],
   "source": [
    "def split(N:int, path='./col1.txt'):\n",
    "    with open(path, 'r', encoding='utf-8') as f:\n",
    "        s = f.readlines()\n",
    "\n",
    "    n = 1\n",
    "    l = []\n",
    "    for i in range(len(s)):\n",
    "        l += [s[i]]\n",
    "        if i + 1 == len(s) * n / N  or  i + 1 == len(s):\n",
    "            split_path = './split' + str(n) + '.txt'\n",
    "            with open(split_path, 'w', encoding='utf-8') as split_w:\n",
    "                split_w.writelines(l)\n",
    "            n += 1\n",
    "            l = []\n",
    "\n",
    "\n",
    "split(3)"
   ]
  },
  {
   "cell_type": "markdown",
   "metadata": {},
   "source": [
    "## 17 1列目の文字列の異なり\n",
    "- 1列目の文字列について、重複を許さない一覧を作成せよ"
   ]
  },
  {
   "cell_type": "code",
   "execution_count": 41,
   "metadata": {},
   "outputs": [
    {
     "name": "stdout",
     "output_type": "stream",
     "text": [
      "{'岐阜県\\n', '埼玉県\\n', '山梨県\\n', '和歌山県\\n', '大阪府\\n', '静岡県\\n', '群馬県\\n', '千葉県\\n', '愛媛県\\n', '山形県\\n', '愛知県\\n', '高知県\\n'}\n"
     ]
    }
   ],
   "source": [
    "def nlp17(path='./col1.txt'):\n",
    "    with open(path, 'r', encoding='utf-8') as f:\n",
    "        s = f.readlines()\n",
    "    print(set(s))\n",
    "\n",
    "\n",
    "nlp17()"
   ]
  },
  {
   "cell_type": "markdown",
   "metadata": {},
   "source": [
    "## 18 各行を3列目の数値の降順にソート"
   ]
  },
  {
   "cell_type": "code",
   "execution_count": 61,
   "metadata": {},
   "outputs": [],
   "source": [
    "def nlp18(path='./hightemp.txt'):\n",
    "    with open(path, 'r', encoding='utf-8') as f:\n",
    "        size = count_lines2(path)\n",
    "        data = [[] for i in range(size)]\n",
    "        i = 0\n",
    "        for l in f:\n",
    "            data[i] += list(l.split('\\t'))\n",
    "            i += 1\n",
    "\n",
    "    for i in range(size):\n",
    "        for j in range(i, size-1):\n",
    "            if data[j][2] < data[j+1][2] :\n",
    "                tmp = data[j]\n",
    "                data[j] = data[j+1]\n",
    "                data[j+1] = tmp\n",
    "\n",
    "    sorted_data = []\n",
    "    for i in range(size):\n",
    "        for j in range(3):\n",
    "            sorted_data += data[i][j]\n",
    "            sorted_data += '\\t'\n",
    "        sorted_data += data[i][3]\n",
    "\n",
    "    with open('./sorted.txt', 'w', encoding='utf-8') as sorted_file:\n",
    "        sorted_file.writelines(sorted_data)\n",
    "\n",
    "\n",
    "nlp18()"
   ]
  },
  {
   "cell_type": "markdown",
   "metadata": {},
   "source": [
    "## 19 各行の一列目の文字列の出現頻度を求め、出現頻度の高い順に並べる"
   ]
  },
  {
   "cell_type": "code",
   "execution_count": 28,
   "metadata": {},
   "outputs": [
    {
     "ename": "KeyError",
     "evalue": "1",
     "output_type": "error",
     "traceback": [
      "\u001b[1;31m----------------------------------------------------------------------\u001b[0m",
      "\u001b[1;31mKeyError\u001b[0m                             Traceback (most recent call last)",
      "\u001b[1;32m<ipython-input-28-743ed0157abb>\u001b[0m in \u001b[0;36m<module>\u001b[1;34m\u001b[0m\n\u001b[0;32m     15\u001b[0m \u001b[1;33m\u001b[0m\u001b[0m\n\u001b[0;32m     16\u001b[0m \u001b[1;33m\u001b[0m\u001b[0m\n\u001b[1;32m---> 17\u001b[1;33m \u001b[0mnlp19\u001b[0m\u001b[1;33m(\u001b[0m\u001b[1;33m)\u001b[0m\u001b[1;33m\u001b[0m\u001b[1;33m\u001b[0m\u001b[0m\n\u001b[0m",
      "\u001b[1;32m<ipython-input-28-743ed0157abb>\u001b[0m in \u001b[0;36mnlp19\u001b[1;34m(path)\u001b[0m\n\u001b[0;32m      7\u001b[0m         \u001b[1;31m# ansは辞書型. 存在しないキーにアクセスしようとするとその要素を追加してくれる.\u001b[0m\u001b[1;33m\u001b[0m\u001b[1;33m\u001b[0m\u001b[1;33m\u001b[0m\u001b[0m\n\u001b[0;32m      8\u001b[0m         \u001b[0mans\u001b[0m\u001b[1;33m[\u001b[0m\u001b[0ms\u001b[0m\u001b[1;33m[\u001b[0m\u001b[0mi\u001b[0m\u001b[1;33m]\u001b[0m\u001b[1;33m]\u001b[0m \u001b[1;33m=\u001b[0m \u001b[0ms\u001b[0m\u001b[1;33m.\u001b[0m\u001b[0mcount\u001b[0m\u001b[1;33m(\u001b[0m\u001b[0ms\u001b[0m\u001b[1;33m[\u001b[0m\u001b[0mi\u001b[0m\u001b[1;33m]\u001b[0m\u001b[1;33m)\u001b[0m\u001b[1;33m\u001b[0m\u001b[1;33m\u001b[0m\u001b[0m\n\u001b[1;32m----> 9\u001b[1;33m     \u001b[0mprint\u001b[0m\u001b[1;33m(\u001b[0m\u001b[0mans\u001b[0m\u001b[1;33m[\u001b[0m\u001b[1;36m1\u001b[0m\u001b[1;33m]\u001b[0m\u001b[1;33m)\u001b[0m\u001b[1;33m\u001b[0m\u001b[1;33m\u001b[0m\u001b[0m\n\u001b[0m\u001b[0;32m     10\u001b[0m     \u001b[0mans\u001b[0m \u001b[1;33m=\u001b[0m \u001b[0msorted\u001b[0m\u001b[1;33m(\u001b[0m\u001b[0mans\u001b[0m\u001b[1;33m.\u001b[0m\u001b[0mitems\u001b[0m\u001b[1;33m(\u001b[0m\u001b[1;33m)\u001b[0m\u001b[1;33m,\u001b[0m \u001b[0mkey\u001b[0m\u001b[1;33m=\u001b[0m\u001b[1;32mlambda\u001b[0m \u001b[0mx\u001b[0m\u001b[1;33m:\u001b[0m\u001b[0mx\u001b[0m\u001b[1;33m[\u001b[0m\u001b[1;36m1\u001b[0m\u001b[1;33m]\u001b[0m\u001b[1;33m,\u001b[0m \u001b[0mreverse\u001b[0m\u001b[1;33m=\u001b[0m\u001b[1;32mTrue\u001b[0m\u001b[1;33m)\u001b[0m\u001b[1;33m\u001b[0m\u001b[1;33m\u001b[0m\u001b[0m\n\u001b[0;32m     11\u001b[0m \u001b[1;33m\u001b[0m\u001b[0m\n",
      "\u001b[1;31mKeyError\u001b[0m: 1"
     ]
    }
   ],
   "source": [
    "def nlp19(path='./col1.txt'):\n",
    "    with open(path, 'r', encoding='utf-8') as f:\n",
    "        s = f.readlines()\n",
    "\n",
    "    ans = {}\n",
    "    for i in range(len(s)):\n",
    "        # ansは辞書型. 存在しないキーにアクセスしようとするとその要素を追加してくれる.\n",
    "        ans[s[i]] = s.count(s[i])\n",
    "    ans = sorted(ans.items(), key=lambda x:x[1], reverse=True)\n",
    "\n",
    "    # sorted()をかけるとlist型で出てくるらしい\n",
    "    for i in range(len(ans)):\n",
    "        print('{} {}'.format(ans[i][1], ans[i][0]))\n",
    "\n",
    "\n",
    "nlp19()"
   ]
  },
  {
   "cell_type": "markdown",
   "metadata": {},
   "source": [
    "### lambda式\n",
    "- lambda 引数: 返り値\n",
    "- 引数無しとか、複数の引数とかもOK"
   ]
  }
 ],
 "metadata": {
  "kernelspec": {
   "display_name": "Python 3",
   "language": "python",
   "name": "python3"
  },
  "language_info": {
   "codemirror_mode": {
    "name": "ipython",
    "version": 3
   },
   "file_extension": ".py",
   "mimetype": "text/x-python",
   "name": "python",
   "nbconvert_exporter": "python",
   "pygments_lexer": "ipython3",
   "version": "3.7.4"
  }
 },
 "nbformat": 4,
 "nbformat_minor": 2
}
