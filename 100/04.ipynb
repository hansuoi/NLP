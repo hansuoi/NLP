{
 "cells": [
  {
   "cell_type": "markdown",
   "metadata": {},
   "source": [
    "# 第04章\n",
    "- neko.txtをMeCabを使って形態素解析し、その結果をneko.txt.mecabに保存\n",
    "- これを使って以下の問いに答えよう"
   ]
  },
  {
   "cell_type": "markdown",
   "metadata": {},
   "source": [
    "## 00 neko.txt.mecabを作る"
   ]
  },
  {
   "cell_type": "code",
   "execution_count": 1,
   "metadata": {},
   "outputs": [],
   "source": [
    "import MeCab\n",
    "mc = MeCab.Tagger('mecabrc')\n",
    "\n",
    "with open ('neko.txt', mode='r', encoding='utf-8') as f:\n",
    "    s = f.read()\n",
    "\n",
    "with open('neko.txt.mecab', mode='w', encoding='utf-8') as f:\n",
    "    f.write(mc.parse(s))"
   ]
  },
  {
   "cell_type": "markdown",
   "metadata": {},
   "source": [
    "### MeCabの出力フォーマット\n",
    "- 表層形\\t品詞,品詞細分類1,品詞細部類2,品詞細分類3,活用型,活用形,原形,読み,発音"
   ]
  },
  {
   "cell_type": "code",
   "execution_count": 2,
   "metadata": {},
   "outputs": [],
   "source": [
    "# neko.txt.mecab を読み込む\n",
    "with open('./neko.txt.mecab', 'r', encoding='utf-8') as f:\n",
    "    s = f.readlines()"
   ]
  },
  {
   "cell_type": "markdown",
   "metadata": {},
   "source": [
    "## 30 形態素解析結果の読み込み\n",
    "- 表層形・原形・品詞・品詞細分類1 をキーとする辞書に格納\n",
    "- surface, base, pos, pos1をキーとする辞書の配列を作ろうかなと思います"
   ]
  },
  {
   "cell_type": "code",
   "execution_count": 3,
   "metadata": {},
   "outputs": [],
   "source": [
    "import re\n",
    "\n",
    "ds = []\n",
    "for i in range(len(s)):\n",
    "    if s[i] != 'EOS\\n':\n",
    "        reg = re.findall('^([^\\t]*)\\t([^,]*),([^,]*),[^,]*,[^,]*,[^,]*,[^,]*,([^,]*).*', s[i])\n",
    "        d = dict(surface=reg[0][0], base=reg[0][3], pos=reg[0][1], pos1=reg[0][2])\n",
    "        ds.extend([d])"
   ]
  },
  {
   "cell_type": "markdown",
   "metadata": {},
   "source": [
    "## 31 動詞\n",
    "- 動詞の表層形を全て抽出せよ\n",
    "\n",
    "\n",
    "## 32 動詞の原形\n",
    "- 動詞の原形を全て抽出せよ"
   ]
  },
  {
   "cell_type": "code",
   "execution_count": 4,
   "metadata": {},
   "outputs": [
    {
     "data": {
      "text/plain": [
       "'助詞'"
      ]
     },
     "execution_count": 4,
     "metadata": {},
     "output_type": "execute_result"
    }
   ],
   "source": [
    "ds[9]['pos']"
   ]
  },
  {
   "cell_type": "code",
   "execution_count": 5,
   "metadata": {},
   "outputs": [],
   "source": [
    "v_surface = []\n",
    "v_base = []\n",
    "for i in range(len(ds)):\n",
    "    if ds[i]['pos'] == '動詞':\n",
    "        v_surface += ds[i]['surface']\n",
    "        v_base += ds[i]['base']"
   ]
  },
  {
   "cell_type": "markdown",
   "metadata": {},
   "source": [
    "## 33 「AのB」\n",
    "- 2つの名詞が「の」で連結されている名詞句を抽出せよ"
   ]
  },
  {
   "cell_type": "code",
   "execution_count": 6,
   "metadata": {},
   "outputs": [],
   "source": [
    "nlp33 = []\n",
    "for i in range(1, len(ds)-1):\n",
    "    if ds[i]['surface'] == 'の'  and  ds[i-1]['pos'] == '名詞'  and  ds[i+1]['pos']=='名詞':\n",
    "        add_data = ''.join([ds[i-1]['surface'], ds[i]['surface'], ds[i+1]['surface']])\n",
    "        nlp33 += [add_data]"
   ]
  },
  {
   "cell_type": "markdown",
   "metadata": {},
   "source": [
    "## 34 名詞の連接\n",
    "- 連続して出現する名詞を最長一致で"
   ]
  },
  {
   "cell_type": "code",
   "execution_count": 7,
   "metadata": {},
   "outputs": [],
   "source": [
    "nlp34 = []\n",
    "i = 0\n",
    "while i < len(ds):\n",
    "    if ds[i]['pos'] == '名詞'  and  ds[i+1]['pos'] == '名詞':\n",
    "        add_data = ''\n",
    "        add_data = add_data.join(ds[i]['surface'])\n",
    "        while i+1 < len(ds)  and  ds[i+1]['pos'] == '名詞':\n",
    "            add_data += ds[i+1]['surface']\n",
    "            i += 1\n",
    "        nlp34 += [add_data]\n",
    "    i += 1"
   ]
  },
  {
   "cell_type": "markdown",
   "metadata": {},
   "source": [
    "## 35 単語の出現頻度\n",
    "- 文章中に出現する単語とその出現頻度を求め、出現頻度の高い順に並べる"
   ]
  },
  {
   "cell_type": "code",
   "execution_count": 8,
   "metadata": {},
   "outputs": [
    {
     "data": {
      "text/plain": [
       "[('ん', 1564),\n",
       " ('事', 1207),\n",
       " ('もの', 981),\n",
       " ('君', 973),\n",
       " ('主人', 932),\n",
       " ('へ', 743),\n",
       " ('よう', 697),\n",
       " ('人', 602),\n",
       " ('ば', 583),\n",
       " ('一', 554)]"
      ]
     },
     "execution_count": 8,
     "metadata": {},
     "output_type": "execute_result"
    }
   ],
   "source": [
    "words = {}\n",
    "for i in range(len(ds)):\n",
    "    if ds[i]['base'] in words:\n",
    "        words[ds[i]['base']] += 1\n",
    "    elif ds[i]['pos'] == '名詞'  and  ds[i]['base'] != '*\\n':\n",
    "        words[ds[i]['base']] = 1\n",
    "words = sorted(words.items(), reverse=True, key=lambda x:x[1])\n",
    "words[1:11]"
   ]
  },
  {
   "cell_type": "markdown",
   "metadata": {},
   "source": [
    "### ソートからそれに関連してλ式についての色々まで\n",
    "- `list.sort()`…元のリストを書き換える形で昇順ソート\n",
    "    - 引数に`reverse=True`を叩き込むと降順\n",
    "- `sorted_list = sorted(list)`…ソートされた新しいリストを作る\n",
    "    - 降順にしたいときは`sorted(list, reverse=True)`\n",
    "\n",
    "\n",
    "- 辞書のソート\n",
    "    - `dict.sort()`は無い\n",
    "    - `sorted()`は本来リストをソートするもの。文字列やタプルは自動でリスト化されてソートされる\n",
    "    - 辞書型の場合は、`dict.items()`でタプルのリスト化する。\n",
    "        - `{'a':1, 'b:2}.items() = [('a', 1), ('b', 2)]`\n",
    "    - 以下、二次元の配列として扱う\n",
    "\n",
    "\n",
    "- 二次元配列`target_list`のソート\n",
    "    - リストの各要素を引数とする関数`f`を`key`に指定して(`sorted(key=f)`)、どの要素でソートするか決める必要がある\n",
    "        - `for i in target_list:`\n",
    "            - `f(i) => 比較要素`\n",
    "    - `f`に`lambda`式を指定することも可能\n",
    "\n",
    "\n",
    "- `lambda`式\n",
    "    - `lambda 引数: 返り値`\n",
    "    - 以下と同じ\n",
    "    - `def f(引数):`\n",
    "        - `return 返り値`"
   ]
  },
  {
   "cell_type": "code",
   "execution_count": 9,
   "metadata": {},
   "outputs": [
    {
     "data": {
      "text/plain": [
       "[6, 5, 4, 3]"
      ]
     },
     "execution_count": 9,
     "metadata": {},
     "output_type": "execute_result"
    }
   ],
   "source": [
    "a = (3,4,5,6)\n",
    "sorted(a, reverse=True)"
   ]
  },
  {
   "cell_type": "markdown",
   "metadata": {},
   "source": [
    "## 36 頻度上位10語\n",
    "- 棒グラフとかで"
   ]
  },
  {
   "cell_type": "code",
   "execution_count": 10,
   "metadata": {},
   "outputs": [
    {
     "name": "stderr",
     "output_type": "stream",
     "text": [
      "C:\\ProgramData\\Anaconda3\\lib\\site-packages\\japanize_matplotlib\\japanize_matplotlib.py:15: MatplotlibDeprecationWarning: \n",
      "The createFontList function was deprecated in Matplotlib 3.2 and will be removed two minor releases later. Use FontManager.addfont instead.\n",
      "  font_list = font_manager.createFontList(font_files)\n"
     ]
    },
    {
     "data": {
      "image/png": "[encoded data removed]",
      "text/plain": [
       "<Figure size 576x576 with 1 Axes>"
      ]
     },
     "metadata": {
      "needs_background": "light"
     },
     "output_type": "display_data"
    }
   ],
   "source": [
    "top_ten = words[0:10]\n",
    "top_ten = sorted(top_ten, key=lambda x:x[1])\n",
    "\n",
    "import matplotlib.pyplot as plt\n",
    "import japanize_matplotlib\n",
    "\n",
    "labels = [a[0] for a in top_ten]\n",
    "values = [a[1] for a in top_ten]\n",
    "plt.figure(figsize=(8, 8))\n",
    "plt.barh(labels, values)\n",
    "plt.show()"
   ]
  },
  {
   "cell_type": "markdown",
   "metadata": {},
   "source": [
    "## 37 「猫」と共起頻度の高い上位10語\n",
    "- 「猫」とよく共起する(共起頻度が高い)10語とその出現頻度をグラフで表示せよ"
   ]
  },
  {
   "cell_type": "code",
   "execution_count": 11,
   "metadata": {},
   "outputs": [
    {
     "data": {
      "image/png": "[encoded data removed]",
      "text/plain": [
       "<Figure size 576x576 with 1 Axes>"
      ]
     },
     "metadata": {
      "needs_background": "light"
     },
     "output_type": "display_data"
    }
   ],
   "source": [
    "with_cat = {}\n",
    "for i in range(len(ds)):\n",
    "    if ds[i]['surface'] == '猫':\n",
    "        for j in range(1, i+1):\n",
    "            if ds[i-j]['surface'] == '。' or ds[i-j]['surface'] == '猫':\n",
    "                break\n",
    "            elif ds[i-j]['surface'] in with_cat:\n",
    "                with_cat[ds[i-j]['surface']] += 1\n",
    "            elif ds[i-j]['pos'] != '助詞' and ds[i-j]['pos'] != '記号':\n",
    "                with_cat[ds[i-j]['surface']] = 1\n",
    "        for j in range(1, len(ds)):\n",
    "            if ds[i+j]['surface'] == '。' or ds[i+j]['surface'] == '猫':\n",
    "                break\n",
    "            elif ds[i+j]['surface'] in with_cat:\n",
    "                with_cat[ds[i+j]['surface']] += 1\n",
    "            elif ds[i+j]['pos'] != '助詞' and ds[i+j]['pos'] != '記号':\n",
    "                with_cat[ds[i+j]['surface']] = 1\n",
    "\n",
    "\n",
    "with_cat = sorted(with_cat.items(), key=lambda x:x[1])\n",
    "with_cat_top10 = with_cat[len(with_cat)-10 : len(with_cat)]\n",
    "key = [a[0] for a in with_cat_top10]\n",
    "value = [a[1] for a in with_cat_top10]\n",
    "plt.figure(figsize=(8, 8))\n",
    "plt.barh(key, value)\n",
    "plt.show()"
   ]
  },
  {
   "cell_type": "markdown",
   "metadata": {},
   "source": [
    "## 38 ヒストグラム\n",
    "- 単語の出現頻度のヒストグラム(横軸に出現頻度・縦軸に単語の種類数、の棒グラフ)を描け"
   ]
  },
  {
   "cell_type": "code",
   "execution_count": 14,
   "metadata": {},
   "outputs": [
    {
     "data": {
      "text/plain": [
       "<function matplotlib.pyplot.show(*args, **kw)>"
      ]
     },
     "execution_count": 14,
     "metadata": {},
     "output_type": "execute_result"
    },
    {
     "data": {
      "image/png": "[encoded data removed]",
      "text/plain": [
       "<Figure size 720x720 with 1 Axes>"
      ]
     },
     "metadata": {
      "needs_background": "light"
     },
     "output_type": "display_data"
    }
   ],
   "source": [
    "freq = [a[1] for a in words]\n",
    "plt.figure(figsize=(10,10))\n",
    "plt.hist(freq, bins=100)\n",
    "plt.show"
   ]
  },
  {
   "cell_type": "markdown",
   "metadata": {},
   "source": [
    "## 39 Zipfの法則\n",
    "- 単語の出現頻度順位を横軸、その出現頻度を縦軸として、両対数グラフをプロットせよ\n",
    "\n",
    "\n",
    "### ジップの法則\n",
    "- 出現頻度が$k$番目に大きい要素が全体に占める割合は$\\frac{1}{k}$に比例する、という経験則\n",
    "- 要は、出現頻度が大きければ全体における割合も大きい"
   ]
  },
  {
   "cell_type": "code",
   "execution_count": 20,
   "metadata": {},
   "outputs": [
    {
     "data": {
      "text/plain": [
       "<function matplotlib.pyplot.show(*args, **kw)>"
      ]
     },
     "execution_count": 20,
     "metadata": {},
     "output_type": "execute_result"
    },
    {
     "data": {
      "image/png": "[encoded data removed]",
      "text/plain": [
       "<Figure size 576x576 with 1 Axes>"
      ]
     },
     "metadata": {
      "needs_background": "light"
     },
     "output_type": "display_data"
    }
   ],
   "source": [
    "import math\n",
    "\n",
    "freq2 = [math.log(a[1]) for a in words]\n",
    "no = [math.log(i+1) for i in range(len(freq2))]\n",
    "\n",
    "plt.figure(figsize=(8,8))\n",
    "plt.plot(no, freq2)\n",
    "plt.show"
   ]
  }
 ],
 "metadata": {
  "kernelspec": {
   "display_name": "Python 3",
   "language": "python",
   "name": "python3"
  },
  "language_info": {
   "codemirror_mode": {
    "name": "ipython",
    "version": 3
   },
   "file_extension": ".py",
   "mimetype": "text/x-python",
   "name": "python",
   "nbconvert_exporter": "python",
   "pygments_lexer": "ipython3",
   "version": "3.7.7"
  }
 },
 "nbformat": 4,
 "nbformat_minor": 4
}
